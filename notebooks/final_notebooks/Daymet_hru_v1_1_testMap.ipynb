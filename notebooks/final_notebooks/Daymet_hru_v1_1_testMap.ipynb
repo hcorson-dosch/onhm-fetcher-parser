{
 "cells": [
  {
   "cell_type": "markdown",
   "metadata": {},
   "source": [
    "# Daymet mapping to NHM hrus\n",
    "This notebook demonstrates the Daymet mapping/interpolating to NHM HRUs"
   ]
  },
  {
   "cell_type": "code",
   "execution_count": 1,
   "metadata": {},
   "outputs": [
    {
     "name": "stdout",
     "output_type": "stream",
     "text": [
      "Populating the interactive namespace from numpy and matplotlib\n"
     ]
    }
   ],
   "source": [
    "%matplotlib inline\n",
    "%pylab inline\n",
    "pylab.rcParams['figure.figsize'] = (10.0, 8.0)\n",
    "\n",
    "import geopandas as gpd\n",
    "import pandas as pd\n",
    "import glob\n",
    "import zipfile\n",
    "# import rasterio\n",
    "import os\n",
    "import xarray as xr\n",
    "import json"
   ]
  },
  {
   "cell_type": "markdown",
   "metadata": {},
   "source": [
    "# Open Daymet max temperature with geopandas and plot"
   ]
  },
  {
   "cell_type": "code",
   "execution_count": null,
   "metadata": {},
   "outputs": [],
   "source": [
    "print(os.getcwd())\n",
    "from pathlib import Path\n",
    "folder = Path(r'../../Data_v1_1') # assumes working directory is onhm-fetcher-parser\n",
    "print(folder)\n",
    "# shapefiles = folder.glob(\"*_0[1-2].shp\")\n",
    "# glob below is not necessary in this case as there is only one shapefile.  Will keep\n",
    "# code this way as in the case of HRUs split into multiple shapefiles this is how to concatenate\n",
    "# into one geodataframe\n",
    "\n",
    "shapefiles = folder.glob(\"*2e*.shp\")\n",
    "gdf = pd.concat([\n",
    "    gpd.read_file(shp)\n",
    "    for shp in shapefiles\n",
    "]).pipe(gpd.GeoDataFrame)\n",
    "gdf.reset_index(drop=True, inplace=True)\n",
    "# gdf.plot()\n",
    "#print(gdf)"
   ]
  },
  {
   "cell_type": "markdown",
   "metadata": {},
   "source": [
    "# Open Daymet data (as netcdf file) \n",
    "https://daymet.ornl.gov/web_services"
   ]
  },
  {
   "cell_type": "code",
   "execution_count": 2,
   "metadata": {},
   "outputs": [
    {
     "name": "stdout",
     "output_type": "stream",
     "text": [
      "Daymet Path exists:  True\n",
      "<xarray.Dataset>\n",
      "Dimensions:                  (nv: 2, time: 1, x: 7814, y: 8075)\n",
      "Coordinates:\n",
      "  * x                        (x) float32 -4560250.0 -4559250.0 ... 3252750.0\n",
      "  * y                        (y) float32 4984000.0 4983000.0 ... -3090000.0\n",
      "    lat                      (y, x) float32 58.527702 58.536274 ... 10.001372\n",
      "    lon                      (y, x) float32 156.37123 156.37682 ... -72.82372\n",
      "  * time                     (time) datetime64[ns] 1980-01-01T12:00:00\n",
      "Dimensions without coordinates: nv\n",
      "Data variables:\n",
      "    yearday                  (time, y, x) float64 nan nan nan ... nan nan nan\n",
      "    time_bnds                (time, nv, y, x) datetime64[ns] NaT NaT ... NaT NaT\n",
      "    lambert_conformal_conic  (y, x) float64 nan nan nan nan ... nan nan nan nan\n",
      "    prcp                     (time, y, x) float32 nan nan nan ... nan nan nan\n",
      "Attributes:\n",
      "    start_year:        1980\n",
      "    source:            Daymet Software Version 3.0\n",
      "    Version_software:  Daymet Software Version 3.0\n",
      "    Version_data:      Daymet Data Version 3.0\n",
      "    Conventions:       CF-1.6\n",
      "    citation:          Please see http://daymet.ornl.gov/ for current Daymet ...\n",
      "    references:        Please see http://daymet.ornl.gov/ for current informa...\n"
     ]
    }
   ],
   "source": [
    "from pathlib import Path\n",
    "dmPath = Path('../../Data_v1_1_Daymet')\n",
    "print('Daymet Path exists: ', dmPath.exists())\n",
    "dmFile = Path(list(dmPath.glob('*_tmax_1980*.nc4'))[0])\n",
    "ds = None\n",
    "if dmFile.exists():\n",
    "    ds = xr.open_dataset(dmFile)\n",
    "    dsday = ds.sel(time=slice('1980-01-01'))\n",
    "    ds2 = dsday.where((ds.lat >= 20) & (ds.lat <= 54) & (ds.lat >= -126) & (ds.lat <= -65))\n",
    "    #delaware = temp.where((ds.lon>=-77) & (ds.lon<=-74) & (ds.lat>=38) & (ds.lat<=43), drop=True)-273.5\n",
    "    print(ds2)\n",
    "else:\n",
    "    print('Daymet file does not exist', dmFile)\n",
    "    "
   ]
  },
  {
   "cell_type": "code",
   "execution_count": 11,
   "metadata": {},
   "outputs": [
    {
     "ename": "AttributeError",
     "evalue": "'DataArray' object has no attribute 'avg'",
     "output_type": "error",
     "traceback": [
      "\u001b[0;31m---------------------------------------------------------------------------\u001b[0m",
      "\u001b[0;31mAttributeError\u001b[0m                            Traceback (most recent call last)",
      "\u001b[0;32m<ipython-input-11-765c96ddad67>\u001b[0m in \u001b[0;36m<module>\u001b[0;34m\u001b[0m\n\u001b[0;32m----> 1\u001b[0;31m \u001b[0mprint\u001b[0m\u001b[0;34m(\u001b[0m\u001b[0mdsday\u001b[0m\u001b[0;34m.\u001b[0m\u001b[0mprcp\u001b[0m\u001b[0;34m.\u001b[0m\u001b[0mavg\u001b[0m\u001b[0;34m(\u001b[0m\u001b[0;34m)\u001b[0m\u001b[0;34m)\u001b[0m\u001b[0;34m\u001b[0m\u001b[0;34m\u001b[0m\u001b[0m\n\u001b[0m",
      "\u001b[0;32m~/anaconda3/envs/ofp_env_upd2/lib/python3.8/site-packages/xarray/core/common.py\u001b[0m in \u001b[0;36m__getattr__\u001b[0;34m(self, name)\u001b[0m\n\u001b[1;32m    230\u001b[0m                 \u001b[0;32mwith\u001b[0m \u001b[0msuppress\u001b[0m\u001b[0;34m(\u001b[0m\u001b[0mKeyError\u001b[0m\u001b[0;34m)\u001b[0m\u001b[0;34m:\u001b[0m\u001b[0;34m\u001b[0m\u001b[0;34m\u001b[0m\u001b[0m\n\u001b[1;32m    231\u001b[0m                     \u001b[0;32mreturn\u001b[0m \u001b[0msource\u001b[0m\u001b[0;34m[\u001b[0m\u001b[0mname\u001b[0m\u001b[0;34m]\u001b[0m\u001b[0;34m\u001b[0m\u001b[0;34m\u001b[0m\u001b[0m\n\u001b[0;32m--> 232\u001b[0;31m         raise AttributeError(\n\u001b[0m\u001b[1;32m    233\u001b[0m             \u001b[0;34m\"{!r} object has no attribute {!r}\"\u001b[0m\u001b[0;34m.\u001b[0m\u001b[0mformat\u001b[0m\u001b[0;34m(\u001b[0m\u001b[0mtype\u001b[0m\u001b[0;34m(\u001b[0m\u001b[0mself\u001b[0m\u001b[0;34m)\u001b[0m\u001b[0;34m.\u001b[0m\u001b[0m__name__\u001b[0m\u001b[0;34m,\u001b[0m \u001b[0mname\u001b[0m\u001b[0;34m)\u001b[0m\u001b[0;34m\u001b[0m\u001b[0;34m\u001b[0m\u001b[0m\n\u001b[1;32m    234\u001b[0m         )\n",
      "\u001b[0;31mAttributeError\u001b[0m: 'DataArray' object has no attribute 'avg'"
     ]
    }
   ],
   "source": [
    "print(dsday.prcp.avg())"
   ]
  },
  {
   "cell_type": "code",
   "execution_count": 18,
   "metadata": {},
   "outputs": [
    {
     "data": {
      "text/plain": [
       "<matplotlib.collections.QuadMesh at 0x7fd5c4261f40>"
      ]
     },
     "execution_count": 18,
     "metadata": {},
     "output_type": "execute_result"
    },
    {
     "data": {
      "image/png": "[encoded data removed]",
      "text/plain": [
       "<Figure size 720x576 with 2 Axes>"
      ]
     },
     "metadata": {
      "needs_background": "light"
     },
     "output_type": "display_data"
    }
   ],
   "source": [
    "dsprcp = ds.prcp.sel(time='1980-01-01T12:00:00')\n",
    "dsprcp.plot()\n",
    "# plt.show()"
   ]
  },
  {
   "cell_type": "code",
   "execution_count": null,
   "metadata": {},
   "outputs": [],
   "source": [
    "import requests\n",
    "from requests.exceptions import HTTPError\n",
    "from datetime import datetime, timedelta\n",
    "from urllib.parse import urlencode\n",
    "from pathlib import Path\n",
    "testfile = Path('tmax_test2.nc')\n",
    "if not testfile.exists():\n",
    "    prcpurl = 'https://thredds.daac.ornl.gov/thredds/ncss/daymet-v3-agg/na.ncml'\n",
    "    prcppayload = {\n",
    "    #     'var': 'lat&var=lon&var=tmax',\n",
    "        'var': 'lat&var=lon&var=prcp&var=srad&var=swe&var=tmax&var=tmin&var=vp',\n",
    "        'north': '54',\n",
    "        'west': '-126',\n",
    "        'east': '-65',\n",
    "        'south': '20',\n",
    "        'disableProjSubset': 'on',\n",
    "        'horizStride': '1',\n",
    "        'time_start': '2018-12-31T12:00:00Z',\n",
    "        'time_end': '2018-12-31T12:00:00Z',\n",
    "        'timeStride': '1',\n",
    "        'accept': 'netcdf'}    \n",
    "    try:\n",
    "        s = requests.Session()\n",
    "        #https://github.com/psf/requests/issues/1454\n",
    "        qry = urlencode(prcppayload).replace('%26','&')\n",
    "        qry = qry.replace('%3D', '=')\n",
    "        print(qry)\n",
    "        tmaxfile = requests.get(prcpurl, params=qry)\n",
    "        tmaxfile.raise_for_status()\n",
    "    except HTTPError as http_err:\n",
    "        print(f'HTTP error occured: {http_err}')\n",
    "    except Exception as err:\n",
    "        print(f'Other error occured: {err}')\n",
    "    else:\n",
    "        print('Daymet data retrieved!')\n",
    "\n",
    "    with open('tmax_test2.nc', 'wb') as fh:\n",
    "        fh.write(tmaxfile.content)\n",
    "    fh.close    \n",
    "\n",
    "#=========================================================\n",
    "#            MACAV2METDATA FILE PARAMETERS\n",
    "#=========================================================\n",
    "# dirPath='https://thredds.daac.ornl.gov/thredds/ncss/ornldaac/1328/2018/daymet_v3_prcp_2018_na.nc4?var=lat&var=lon&var=prcp&north=52.880049298000074+&west=-124.72462483099997+&east=-66.94953853699997+&south=24.839424370000074&disableLLSubset=on&disableProjSubset=on&horizStride=1&time_start=2018-12-31T00:00:00Z&time_end=2018-12-31T00:00:00Z&timeStride=1&accept=netcdf'\n",
    "# fileName='/thredds/dodsC/MET/tmmx/tmmx_2019.nc'\n",
    "# dirPath = 'tmax_test2.nc'\n",
    "# dirPath = 'daymet_v3_tmax_2018_na.nc4.nc'\n",
    "#--------------------------------------------------------\n",
    "#   FORM FILENAME AND GET HANDLE TO FILE AND DATA\n",
    "#--------------------------------------------------------\n",
    "# fullfilename= dirPath\n",
    "# print(fullfilename)\n",
    "\n",
    "ds = xr.open_dataset(testfile)\n",
    "\n",
    "print(ds)\n",
    "\n",
    "# df = ds.to_dataframe()\n",
    "\n",
    "print('\\n The meta data is: \\n', ds.attrs)\n",
    "lathandle=ds['lat']\n",
    "lonhandle=ds['lon']\n",
    "timehandle=ds['time']\n",
    "datahandle=ds['tmax']\n",
    "dhlat = ds['lat']\n",
    "dhlon = ds['lon']\n",
    "crshandle=ds['lambert_conformal_conic']\n",
    "print('\\n The crs meta data is \\n', crshandle.attrs)\n",
    "print(datahandle)\n",
    "\n",
    "\n",
    "#collect data to describe geotransform\n",
    "lonmin = float(ds.attrs['geospatial_lon_min'])\n",
    "latmax = float(ds.attrs['geospatial_lat_max'])\n",
    "\n",
    "#Print some information on the data\n",
    "\n",
    "print('\\n Data attributes, sizes, and coords \\n') \n",
    "print('\\n Data attributes are: \\n',datahandle.attrs)\n",
    "print('\\n Data sizes are: \\n', datahandle.sizes)\n",
    "print('\\n Data coords are: \\n', datahandle.coords)\n",
    "print('\\n Lat coords are: \\n', dhlat.attrs)\n",
    "\n",
    "ts = datahandle.sizes\n",
    "print(type(ts))\n",
    "print(ts['time'])\n",
    "dayshape = ts['time']\n",
    "Lonshape = ts['x']\n",
    "Latshape = ts['y']\n",
    "#dayshape,lonshape,latshape = datahandle.values.shape\n",
    "print(dayshape, Lonshape, Latshape)\n"
   ]
  },
  {
   "cell_type": "code",
   "execution_count": null,
   "metadata": {},
   "outputs": [],
   "source": [
    "lon = ds.lon.values\n",
    "numcells = np.shape(lon)[0]*np.shape(lon)[1]\n",
    "numcells"
   ]
  },
  {
   "cell_type": "code",
   "execution_count": null,
   "metadata": {},
   "outputs": [],
   "source": [
    "ds.tmax.plot()"
   ]
  },
  {
   "cell_type": "code",
   "execution_count": null,
   "metadata": {},
   "outputs": [],
   "source": [
    "# tmax = ds.tmax.isel(time=[0])\n",
    "tmax = ds.tmax\n",
    "# p = tmax.plot(col = 'time', aspect = ds.dims['x']/ds.dims['y'], size = 2)\n",
    "p = tmax.plot()\n",
    "p.axes.set_aspect('equal')\n",
    "plt.show()"
   ]
  },
  {
   "cell_type": "code",
   "execution_count": null,
   "metadata": {},
   "outputs": [],
   "source": [
    "# wght_UofI = pd.read_csv('../pkg/tmp_weights_hru_v1_1.csv')\n",
    "# print(wght_UofI.head())\n",
    "\n",
    "# #iterate through hru's, grab all weights associated with hru_id, get total weighted value from netcdf file, assign to tmax\n",
    "# ndata = datahandle.values[dayshape-1,:,:].flatten(order='K')\n",
    "\n",
    "# print(ndata[1000:])\n",
    "\n",
    "# unique_hru_ids = wght_UofI.groupby('GFv11_id')\n",
    "# print(len(gdf), len(unique_hru_ids))"
   ]
  },
  {
   "cell_type": "code",
   "execution_count": null,
   "metadata": {},
   "outputs": [],
   "source": [
    "# print(gdf.iloc[0]['GFv11_id'] in unique_hru_ids)"
   ]
  },
  {
   "cell_type": "code",
   "execution_count": null,
   "metadata": {},
   "outputs": [],
   "source": [
    "# # read hru nhm_id that have no intersections\n",
    "# hru_nointsct = pd.read_csv(r'../Data_v1_1/gridmet_hru_v1_1_nointsct.txt')\n",
    "# hru_nointsct.head()\n",
    "# noint = hru_nointsct.hru_nointsct.unique()\n",
    "# print(type(noint))"
   ]
  },
  {
   "cell_type": "code",
   "execution_count": null,
   "metadata": {},
   "outputs": [],
   "source": [
    "from numpy.ma import masked\n",
    "# add tmax column to dataframe\n",
    "gdf['tmax']=0.0\n",
    "# gdf.tmax[noint] = 10.0\n",
    "# print(gdf.tmax[noint])\n",
    "\n",
    "wght_UofI = pd.read_csv('../../Data_v1_1/tmp_daymet_weights_hru_v1_1e.csv')\n",
    "print(wght_UofI.head())\n",
    "wghts_id = wght_UofI.columns[1]\n",
    "print('wghts_id', wghts_id)\n",
    "#iterate through hru's, grab all weights associated with hru_id, get total weighted value from netcdf file, assign to tmax\n",
    "# ndata = datahandle.values[dayshape-1,:,:].flatten(order='C')\n",
    "# ndata = ds.tmax.values[dayshape-1,:,:].flatten()\n",
    "lon = ds.lon.values\n",
    "lat = ds.lat.values\n",
    "ndata = np.zeros(np.shape(lon)[1]*np.shape(lon)[0])\n",
    "tlc = 0\n",
    "for i in range(1, np.shape(lon)[0] - 1):\n",
    "    if i % 100 == 0: print(i, flush=True)\n",
    "    for j in range(1, np.shape(lon)[1] - 1):\n",
    "        ndata[tlc] = datahandle.values[dayshape-1,i,j]\n",
    "        tlc+=1\n",
    "\n",
    "# print(ndata[1000:])\n",
    "\n",
    "unique_hru_ids = wght_UofI.groupby(wghts_id)\n",
    "print(len(gdf), len(unique_hru_ids))\n",
    "\n",
    "def np_get_wval2(grp, ndata):\n",
    "    mdata = np.ma.masked_array(ndata[grp['grid_ids'].values.astype(int)], np.isnan(ndata[grp['grid_ids'].values.astype(int)]))\n",
    "    return np.ma.average(mdata, weights=grp['w'])\n",
    "def np_get_wval(ndata, wghts, hru_id):\n",
    "    \"\"\"\n",
    "    Returns weighted average of ndata with weights = grp\n",
    "    1) mdata = the subset of values associated with the gridmet id's that are mapped to hru_id.\n",
    "    2) Some of these values may have nans if the gridmet id is outside of conus so only return values\n",
    "    that are inside of conus\n",
    "    3) this means that hru's that are entirely outside of conus will return nans which will ultimately,\n",
    "    outside of this function get assigned zero's.\n",
    "    4) the value is assigned the weighted average\n",
    "    :param ndata: float array of data values\n",
    "    :param wghts: float array of weights\n",
    "    :param hru_id hru id number\n",
    "    :return: numpy weighted averaged - masked to deal with nans associated with\n",
    "            ndata that is outside of the conus.\n",
    "    \"\"\"\n",
    "    mdata = np.ma.masked_array(ndata[wghts['grid_ids'].values.astype(int)],\n",
    "                               np.isnan(ndata[wghts['grid_ids'].values.astype(int)]))\n",
    "\n",
    "    # mdata = np.ma.masked_where(ndata[wghts['grid_ids'].values.astype(int)] <= 0.0,\n",
    "    #                            (ndata[wghts['grid_ids'].values.astype(int)]))\n",
    "    tmp = np.ma.average(mdata, weights=wghts['w'])\n",
    "    if tmp is masked:\n",
    "        # print('returning masked value', hru_id, mdata, wghts['w'])\n",
    "        return np.nan\n",
    "\n",
    "    else:\n",
    "        return tmp\n",
    "    \n",
    "# unique_hru_ids.get_group(gdf['hru_id_nat']).agg({'tmax': np_get_wval(weight_id_rows, ndata)})    \n",
    "td = np.zeros(len(gdf.index))\n",
    "for index, row in gdf.iterrows():\n",
    "#     if not(row['nhm_id'] in noint):\n",
    "    try: \n",
    "        weight_id_rows = unique_hru_ids.get_group(row[wghts_id])\n",
    "        td[index] = np.nan_to_num(np_get_wval(ndata, weight_id_rows, index+1))\n",
    "    except KeyError:\n",
    "        td[index] = 0.0\n",
    "            \n",
    "            \n",
    "#         gdf['tmax'][index] = np_get_wval2(weight_id_rows, ndata)\n",
    "#     else:\n",
    "#         td[index] = 10.0\n",
    "\n",
    "gdf['tmax'] = td.tolist()\n",
    "# gdf['tmax'].fillna(0.0)\n",
    "\n",
    "print('min/max', gdf['tmax'].min(), gdf['tmax'].max())\n",
    "\n",
    "# f, ax = plt.subplots(2, figsize=(12,12))\n",
    "# gdf.plot(ax=ax[0], column = 'tmax',linewidth=0., edgecolor='white')\n",
    "# ax[0].set_aspect('equal')\n",
    "# ptmax = ds.tmax\n",
    "# ptmax_1 = ptmax.isel(time=dayshape-1)\n",
    "# lvs = np.arange(gdf['tmax'].min(), gdf['tmax'].max(), 0.5)\n",
    "# ptmax_1.plot(ax=ax[1], levels=lvs, cmap='viridis')"
   ]
  },
  {
   "cell_type": "code",
   "execution_count": null,
   "metadata": {},
   "outputs": [],
   "source": [
    "f, ax = plt.subplots(2, 1)\n",
    "\n",
    "lvs = np.arange(gdf['tmax'].min(), gdf['tmax'].max(), 0.5)\n",
    "\n",
    "ptmax = ds.tmax\n",
    "ptmax_1 = ptmax.isel(time=dayshape-1)\n",
    "p=ptmax_1.plot(ax=ax[0], levels=lvs, cmap='viridis')\n",
    "ax[0].set_aspect('equal', 'box')\n",
    "\n",
    "g = gdf.plot(ax=ax[1], column = 'tmax',linewidth=0., edgecolor='white', legend=True)\n",
    "# temp = ds.daily_maximum_temperature[0,:,:]-273.5\n",
    "ax[1].set_aspect('equal', 'box')\n",
    "\n",
    "\n",
    "plt.tight_layout()\n",
    "plt.show()"
   ]
  },
  {
   "cell_type": "markdown",
   "metadata": {},
   "source": [
    "##### lon = ds.lon.values\n",
    "lat = ds.lat.values\n",
    "print(np.shape(lon))"
   ]
  },
  {
   "cell_type": "code",
   "execution_count": null,
   "metadata": {},
   "outputs": [],
   "source": [
    "wght_UofI.head()"
   ]
  },
  {
   "cell_type": "code",
   "execution_count": null,
   "metadata": {},
   "outputs": [],
   "source": [
    "wght_sum = wght_UofI.groupby(wghts_id).sum()\n",
    "print(type(wght_sum))\n",
    "wght_sum.head()"
   ]
  },
  {
   "cell_type": "code",
   "execution_count": null,
   "metadata": {},
   "outputs": [],
   "source": [
    "print(wght_sum.head(100))\n",
    "wght_sum['w'][10000]\n",
    "wght_sum.w.plot()\n",
    "ax = plt.gca()\n",
    "ax.ticklabel_format(useOffset=False)\n",
    "# print(wght_UofI.loc[wght_UofI['GFv11_id'] == 5])\n",
    "# tid = 5\n",
    "# hid = gdf.loc[gdf['GFv11_id']==tid].geometry.area.sum()\n",
    "# print(hid)"
   ]
  },
  {
   "cell_type": "code",
   "execution_count": null,
   "metadata": {},
   "outputs": [],
   "source": []
  },
  {
   "cell_type": "code",
   "execution_count": null,
   "metadata": {},
   "outputs": [],
   "source": [
    "gdf_id = gdf.groupby('GFv11_id', sort = False)\n"
   ]
  },
  {
   "cell_type": "code",
   "execution_count": null,
   "metadata": {},
   "outputs": [],
   "source": [
    "# print(gdf_id)\n",
    "for index, row in gdf_id:\n",
    "#     print(' ')\n",
    "    if index < 6:\n",
    "        print(len(row))\n",
    "        for geo in row.geometry:\n",
    "            print(index, row['GFv11_id'].values, geo.area, geo.bounds)\n",
    "#             print(geo)\n",
    "#         print(row['GFv11_id'], gdf_id.loc[gdf_id['GFv11_id']==row['GFv11_id']].geometry.area.sum())"
   ]
  },
  {
   "cell_type": "code",
   "execution_count": null,
   "metadata": {},
   "outputs": [],
   "source": [
    "count = 0\n",
    "for index, row in gdf.iterrows():\n",
    "    if count < 5:\n",
    "        print(gdf.loc[[index]])"
   ]
  },
  {
   "cell_type": "code",
   "execution_count": null,
   "metadata": {},
   "outputs": [],
   "source": []
  }
 ],
 "metadata": {
  "kernelspec": {
   "display_name": "Python 3",
   "language": "python",
   "name": "python3"
  },
  "language_info": {
   "codemirror_mode": {
    "name": "ipython",
    "version": 3
   },
   "file_extension": ".py",
   "mimetype": "text/x-python",
   "name": "python",
   "nbconvert_exporter": "python",
   "pygments_lexer": "ipython3",
   "version": "3.8.2"
  }
 },
 "nbformat": 4,
 "nbformat_minor": 4
}
